{
 "cells": [
  {
   "cell_type": "code",
   "execution_count": null,
   "metadata": {},
   "outputs": [],
   "source": []
  },
  {
   "cell_type": "code",
   "execution_count": null,
   "metadata": {},
   "outputs": [],
   "source": [
    "import matplotlib.pyplot as plt\n",
    "import itertools\n",
    "import random\n",
    "import copy\n",
    "\n",
    "\n",
    "from construtores import Schelling "
   ]
  },
  {
   "cell_type": "markdown",
   "metadata": {},
   "source": [
    "# Simulação\n",
    "## Parâmetros\n",
    "- largura = 50 e altura = 50 (2500 casas)\n",
    "- 30% das casas vazias\n",
    "- Número máximo de iterações = 500\n",
    "- Número de raças = 2\n",
    "## Cenários\n",
    "- Limite de Similaridade = 30% (para Simulação 1)\n",
    "- Limiar de Similaridade = 50% (para Simulação 2)\n",
    "- Limite de Similaridade = 80% (para Simulação 3)"
   ]
  },
  {
   "cell_type": "code",
   "execution_count": null,
   "metadata": {},
   "outputs": [],
   "source": [
    "schelling_1 = Schelling(50, 50, 0.3, 0.3, 500, 2)\n",
    "schelling_1.populate()\n",
    "\n",
    "schelling_2 = Schelling(50, 50, 0.3, 0.5, 500, 2)\n",
    "schelling_2.populate()\n",
    "\n",
    "schelling_3 = Schelling(50, 50, 0.3, 0.8, 500, 2)\n",
    "schelling_3.populate()"
   ]
  },
  {
   "cell_type": "code",
   "execution_count": null,
   "metadata": {},
   "outputs": [],
   "source": [
    "schelling_3.plot('Schelling Model with 2 colors: Initial State')\n"
   ]
  },
  {
   "cell_type": "code",
   "execution_count": null,
   "metadata": {},
   "outputs": [],
   "source": [
    "schelling_1.update()\n",
    "\n",
    "schelling_2.update()\n",
    "\n",
    "schelling_3.update()"
   ]
  },
  {
   "cell_type": "code",
   "execution_count": null,
   "metadata": {},
   "outputs": [],
   "source": []
  },
  {
   "cell_type": "code",
   "execution_count": null,
   "metadata": {},
   "outputs": [],
   "source": [
    "similarity_threshold_ratio = {}\n",
    "for i in [0, 0.1, 0.2, 0.3, 0.4, 0.5, 0.6, 0.7]:\n",
    "    schelling = Schelling(50, 50, 0.3, i, 500, 2)\n",
    "    schelling.populate()\n",
    "    schelling.update()\n",
    "    similarity_threshold_ratio[i] = schelling.calculate_similarity()\n",
    " \n",
    "fig, ax = plt.subplots()\n",
    "plt.plot(similarity_threshold_ratio.keys(), similarity_threshold_ratio.values(), 'ro')\n",
    "ax.set_title('Similarity Threshold vs. Mean Similarity Ratio', fontsize=15, fontweight='bold')\n",
    "ax.set_xlim([0, 1])\n",
    "ax.set_ylim([0, 1.1])\n",
    "ax.set_xlabel(\"Similarity Threshold\")\n",
    "ax.set_ylabel(\"Mean Similarity Ratio\")\n",
    "plt.show()"
   ]
  },
  {
   "cell_type": "code",
   "execution_count": null,
   "metadata": {},
   "outputs": [],
   "source": [
    "?itertools"
   ]
  },
  {
   "cell_type": "code",
   "execution_count": null,
   "metadata": {},
   "outputs": [],
   "source": []
  }
 ],
 "metadata": {
  "kernelspec": {
   "display_name": "Python 3",
   "language": "python",
   "name": "python3"
  },
  "language_info": {
   "codemirror_mode": {
    "name": "ipython",
    "version": 3
   },
   "file_extension": ".py",
   "mimetype": "text/x-python",
   "name": "python",
   "nbconvert_exporter": "python",
   "pygments_lexer": "ipython3",
   "version": "3.7.0"
  }
 },
 "nbformat": 4,
 "nbformat_minor": 2
}
