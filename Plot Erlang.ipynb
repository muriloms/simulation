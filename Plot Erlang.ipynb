{
 "cells": [
  {
   "cell_type": "code",
   "execution_count": 3,
   "metadata": {},
   "outputs": [
    {
     "name": "stdout",
     "output_type": "stream",
     "text": [
      "Mean =  9.994901606754887\n"
     ]
    },
    {
     "data": {
      "image/png": "[encoded data removed]",
      "text/plain": [
       "<Figure size 432x288 with 1 Axes>"
      ]
     },
     "metadata": {
      "needs_background": "light"
     },
     "output_type": "display_data"
    }
   ],
   "source": [
    "from random import *\n",
    "from math import *\n",
    "from matplotlib.pyplot import *\n",
    "from statistics import *\n",
    "\n",
    "def Erlang():\n",
    "    k = 10\n",
    "    theta = 1.0\n",
    "    y = 0\n",
    "    for i in range(k):\n",
    "        u = random()\n",
    "        x = (-1 / theta) * log(u)     # Exponential variate\n",
    "        y = y + x\n",
    "\n",
    "    return y\n",
    "\n",
    "N = 100000\n",
    "v = []\n",
    "for i in range(N):\n",
    "    v.append( Erlang() )\n",
    "\n",
    "bins = 100\n",
    "\n",
    "w = [1 / len(v)] * len(v)\n",
    "\n",
    "hist(v, bins, weights = w)\n",
    "\n",
    "xlabel('Y')\n",
    "ylabel('P(y)')\n",
    "\n",
    "# Hide numbers along y-axis\n",
    "gca().axes.get_yaxis().set_ticklabels([])\n",
    "# Remove ticks along y-axis\n",
    "gca().axes.yaxis.set_tick_params(width=0)\n",
    "\n",
    "#savefig('erlang_plot_hist.pdf', format='pdf', bbox_inches='tight')\n",
    "\n",
    "print(\"Mean = \", mean(v))\n"
   ]
  },
  {
   "cell_type": "code",
   "execution_count": null,
   "metadata": {},
   "outputs": [],
   "source": []
  }
 ],
 "metadata": {
  "kernelspec": {
   "display_name": "Python 3",
   "language": "python",
   "name": "python3"
  },
  "language_info": {
   "codemirror_mode": {
    "name": "ipython",
    "version": 3
   },
   "file_extension": ".py",
   "mimetype": "text/x-python",
   "name": "python",
   "nbconvert_exporter": "python",
   "pygments_lexer": "ipython3",
   "version": "3.7.0"
  }
 },
 "nbformat": 4,
 "nbformat_minor": 2
}
